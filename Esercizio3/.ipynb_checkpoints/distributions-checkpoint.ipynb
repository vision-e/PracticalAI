{
 "cells": [
  {
   "cell_type": "markdown",
   "id": "2ec27e3e",
   "metadata": {
    "papermill": {
     "duration": 0.011586,
     "end_time": "2021-11-09T00:05:22.204971",
     "exception": false,
     "start_time": "2021-11-09T00:05:22.193385",
     "status": "completed"
    },
    "tags": []
   },
   "source": [
    "In this tutorial you'll learn all about **histograms** and **density plots**.\n",
    "\n",
    "# Set up the notebook\n",
    "\n",
    "As always, we begin by setting up the coding environment.  (_This code is hidden, but you can un-hide it by clicking on the \"Code\" button immediately below this text, on the right._)"
   ]
  },
  {
   "cell_type": "code",
   "execution_count": 1,
   "id": "b4180408",
   "metadata": {
    "_kg_hide-input": true,
    "_kg_hide-output": true,
    "execution": {
     "iopub.execute_input": "2021-11-09T00:05:22.230278Z",
     "iopub.status.busy": "2021-11-09T00:05:22.229166Z",
     "iopub.status.idle": "2021-11-09T00:05:23.203539Z",
     "shell.execute_reply": "2021-11-09T00:05:23.204051Z"
    },
    "papermill": {
     "duration": 0.98975,
     "end_time": "2021-11-09T00:05:23.204353",
     "exception": false,
     "start_time": "2021-11-09T00:05:22.214603",
     "status": "completed"
    },
    "tags": []
   },
   "outputs": [
    {
     "name": "stdout",
     "output_type": "stream",
     "text": [
      "Setup Complete\n"
     ]
    }
   ],
   "source": [
    "\n",
    "import pandas as pd\n",
    "pd.plotting.register_matplotlib_converters()\n",
    "import matplotlib.pyplot as plt\n",
    "%matplotlib inline\n",
    "import seaborn as sns\n",
    "print(\"Setup Complete\")"
   ]
  },
  {
   "cell_type": "markdown",
   "id": "d8a1a27f",
   "metadata": {
    "papermill": {
     "duration": 0.01189,
     "end_time": "2021-11-09T00:05:23.226449",
     "exception": false,
     "start_time": "2021-11-09T00:05:23.214559",
     "status": "completed"
    },
    "tags": []
   },
   "source": [
    "# Select a dataset\n",
    "\n",
    "We'll work with a dataset of 150 different flowers, or 50 each from three different species of iris (*Iris setosa*, *Iris versicolor*, and *Iris virginica*).\n",
    "\n",
    "![tut4_iris](https://i.imgur.com/RcxYYBA.png)\n",
    "\n",
    "# Load and examine the data\n",
    "\n",
    "Each row in the dataset corresponds to a different flower.  There are four measurements: the sepal length and width, along with the petal length and width.  We also keep track of the corresponding species. "
   ]
  },
  {
   "cell_type": "code",
   "execution_count": 4,
   "id": "d5eeb3ad",
   "metadata": {
    "execution": {
     "iopub.execute_input": "2021-11-09T00:05:23.249126Z",
     "iopub.status.busy": "2021-11-09T00:05:23.248209Z",
     "iopub.status.idle": "2021-11-09T00:05:23.298630Z",
     "shell.execute_reply": "2021-11-09T00:05:23.298144Z"
    },
    "papermill": {
     "duration": 0.062771,
     "end_time": "2021-11-09T00:05:23.298766",
     "exception": false,
     "start_time": "2021-11-09T00:05:23.235995",
     "status": "completed"
    },
    "tags": []
   },
   "outputs": [
    {
     "data": {
      "text/html": [
       "<div>\n",
       "<style scoped>\n",
       "    .dataframe tbody tr th:only-of-type {\n",
       "        vertical-align: middle;\n",
       "    }\n",
       "\n",
       "    .dataframe tbody tr th {\n",
       "        vertical-align: top;\n",
       "    }\n",
       "\n",
       "    .dataframe thead th {\n",
       "        text-align: right;\n",
       "    }\n",
       "</style>\n",
       "<table border=\"1\" class=\"dataframe\">\n",
       "  <thead>\n",
       "    <tr style=\"text-align: right;\">\n",
       "      <th></th>\n",
       "      <th>Sepal Length (cm)</th>\n",
       "      <th>Sepal Width (cm)</th>\n",
       "      <th>Petal Length (cm)</th>\n",
       "      <th>Petal Width (cm)</th>\n",
       "      <th>Species</th>\n",
       "    </tr>\n",
       "    <tr>\n",
       "      <th>Id</th>\n",
       "      <th></th>\n",
       "      <th></th>\n",
       "      <th></th>\n",
       "      <th></th>\n",
       "      <th></th>\n",
       "    </tr>\n",
       "  </thead>\n",
       "  <tbody>\n",
       "    <tr>\n",
       "      <th>1</th>\n",
       "      <td>5.1</td>\n",
       "      <td>3.5</td>\n",
       "      <td>1.4</td>\n",
       "      <td>0.2</td>\n",
       "      <td>Iris-setosa</td>\n",
       "    </tr>\n",
       "    <tr>\n",
       "      <th>2</th>\n",
       "      <td>4.9</td>\n",
       "      <td>3.0</td>\n",
       "      <td>1.4</td>\n",
       "      <td>0.2</td>\n",
       "      <td>Iris-setosa</td>\n",
       "    </tr>\n",
       "    <tr>\n",
       "      <th>3</th>\n",
       "      <td>4.7</td>\n",
       "      <td>3.2</td>\n",
       "      <td>1.3</td>\n",
       "      <td>0.2</td>\n",
       "      <td>Iris-setosa</td>\n",
       "    </tr>\n",
       "    <tr>\n",
       "      <th>4</th>\n",
       "      <td>4.6</td>\n",
       "      <td>3.1</td>\n",
       "      <td>1.5</td>\n",
       "      <td>0.2</td>\n",
       "      <td>Iris-setosa</td>\n",
       "    </tr>\n",
       "    <tr>\n",
       "      <th>5</th>\n",
       "      <td>5.0</td>\n",
       "      <td>3.6</td>\n",
       "      <td>1.4</td>\n",
       "      <td>0.2</td>\n",
       "      <td>Iris-setosa</td>\n",
       "    </tr>\n",
       "  </tbody>\n",
       "</table>\n",
       "</div>"
      ],
      "text/plain": [
       "    Sepal Length (cm)  Sepal Width (cm)  Petal Length (cm)  Petal Width (cm)  \\\n",
       "Id                                                                             \n",
       "1                 5.1               3.5                1.4               0.2   \n",
       "2                 4.9               3.0                1.4               0.2   \n",
       "3                 4.7               3.2                1.3               0.2   \n",
       "4                 4.6               3.1                1.5               0.2   \n",
       "5                 5.0               3.6                1.4               0.2   \n",
       "\n",
       "        Species  \n",
       "Id               \n",
       "1   Iris-setosa  \n",
       "2   Iris-setosa  \n",
       "3   Iris-setosa  \n",
       "4   Iris-setosa  \n",
       "5   Iris-setosa  "
      ]
     },
     "execution_count": 4,
     "metadata": {},
     "output_type": "execute_result"
    }
   ],
   "source": [
    "# Path of the file to read\n",
    "iris_filepath = \"iris_setosa.csv\"\n",
    "\n",
    "# Read the file into a variable iris_data\n",
    "iris_data = pd.read_csv(iris_filepath, index_col=\"Id\")\n",
    "\n",
    "# Print the first 5 rows of the data\n",
    "iris_data.head()"
   ]
  },
  {
   "cell_type": "markdown",
   "id": "8c96d150",
   "metadata": {
    "papermill": {
     "duration": 0.009634,
     "end_time": "2021-11-09T00:05:23.318601",
     "exception": false,
     "start_time": "2021-11-09T00:05:23.308967",
     "status": "completed"
    },
    "tags": []
   },
   "source": [
    "# Histograms\n",
    "\n",
    "Say we would like to create a **histogram** to see how petal length varies in iris flowers.  We can do this with the `sns.distplot` command.  "
   ]
  },
  {
   "cell_type": "code",
   "execution_count": 5,
   "id": "09475a16",
   "metadata": {
    "execution": {
     "iopub.execute_input": "2021-11-09T00:05:23.342048Z",
     "iopub.status.busy": "2021-11-09T00:05:23.341174Z",
     "iopub.status.idle": "2021-11-09T00:05:23.653356Z",
     "shell.execute_reply": "2021-11-09T00:05:23.653918Z"
    },
    "papermill": {
     "duration": 0.325586,
     "end_time": "2021-11-09T00:05:23.654086",
     "exception": false,
     "start_time": "2021-11-09T00:05:23.328500",
     "status": "completed"
    },
    "tags": []
   },
   "outputs": [
    {
     "name": "stderr",
     "output_type": "stream",
     "text": [
      "/home/ubuntu/miniconda3/lib/python3.8/site-packages/seaborn/distributions.py:2557: FutureWarning: `distplot` is a deprecated function and will be removed in a future version. Please adapt your code to use either `displot` (a figure-level function with similar flexibility) or `histplot` (an axes-level function for histograms).\n",
      "  warnings.warn(msg, FutureWarning)\n"
     ]
    },
    {
     "data": {
      "text/plain": [
       "<AxesSubplot:xlabel='Petal Length (cm)'>"
      ]
     },
     "execution_count": 5,
     "metadata": {},
     "output_type": "execute_result"
    },
    {
     "data": {
      "image/png": "[encoded data removed]",
      "text/plain": [
       "<Figure size 432x288 with 1 Axes>"
      ]
     },
     "metadata": {
      "needs_background": "light"
     },
     "output_type": "display_data"
    }
   ],
   "source": [
    "# Histogram \n",
    "sns.distplot(a=iris_data['Petal Length (cm)'], kde=False)"
   ]
  },
  {
   "cell_type": "markdown",
   "id": "d91df573",
   "metadata": {
    "papermill": {
     "duration": 0.010933,
     "end_time": "2021-11-09T00:05:23.676265",
     "exception": false,
     "start_time": "2021-11-09T00:05:23.665332",
     "status": "completed"
    },
    "tags": []
   },
   "source": [
    "We customize the behavior of the command with two additional pieces of information:\n",
    "- `a=` chooses the column we'd like to plot (_in this case, we chose `'Petal Length (cm)'`_).\n",
    "- `kde=False` is something we'll always provide when creating a histogram, as leaving it out will create a slightly different plot.\n",
    "\n",
    "# Density plots\n",
    "\n",
    "The next type of plot is a **kernel density estimate (KDE)** plot.  In case you're not familiar with KDE plots, you can think of it as a smoothed histogram.   \n",
    "\n",
    "To make a KDE plot, we use the `sns.kdeplot` command.  Setting `shade=True` colors the area below the curve (_and `data=` has identical functionality as when we made the histogram above_)."
   ]
  },
  {
   "cell_type": "code",
   "execution_count": 6,
   "id": "ed147e69",
   "metadata": {
    "execution": {
     "iopub.execute_input": "2021-11-09T00:05:23.744634Z",
     "iopub.status.busy": "2021-11-09T00:05:23.727058Z",
     "iopub.status.idle": "2021-11-09T00:05:23.923825Z",
     "shell.execute_reply": "2021-11-09T00:05:23.924531Z"
    },
    "papermill": {
     "duration": 0.237182,
     "end_time": "2021-11-09T00:05:23.924762",
     "exception": false,
     "start_time": "2021-11-09T00:05:23.687580",
     "status": "completed"
    },
    "tags": []
   },
   "outputs": [
    {
     "data": {
      "text/plain": [
       "<AxesSubplot:xlabel='Petal Length (cm)', ylabel='Density'>"
      ]
     },
     "execution_count": 6,
     "metadata": {},
     "output_type": "execute_result"
    },
    {
     "data": {
      "image/png": "[encoded data removed]",
      "text/plain": [
       "<Figure size 432x288 with 1 Axes>"
      ]
     },
     "metadata": {
      "needs_background": "light"
     },
     "output_type": "display_data"
    }
   ],
   "source": [
    "# KDE plot \n",
    "sns.kdeplot(data=iris_data['Petal Length (cm)'], shade=True)"
   ]
  },
  {
   "cell_type": "markdown",
   "id": "13a70ca8",
   "metadata": {
    "papermill": {
     "duration": 0.012336,
     "end_time": "2021-11-09T00:05:23.956594",
     "exception": false,
     "start_time": "2021-11-09T00:05:23.944258",
     "status": "completed"
    },
    "tags": []
   },
   "source": [
    "# 2D KDE plots\n",
    "\n",
    "We're not restricted to a single column when creating a KDE plot.  We can create a **two-dimensional (2D) KDE plot** with the `sns.jointplot` command.\n",
    "\n",
    "In the plot below, the color-coding shows us how likely we are to see different combinations of sepal width and petal length, where darker parts of the figure are more likely. "
   ]
  },
  {
   "cell_type": "code",
   "execution_count": 7,
   "id": "d1014c5a",
   "metadata": {
    "execution": {
     "iopub.execute_input": "2021-11-09T00:05:23.984999Z",
     "iopub.status.busy": "2021-11-09T00:05:23.984291Z",
     "iopub.status.idle": "2021-11-09T00:05:24.771896Z",
     "shell.execute_reply": "2021-11-09T00:05:24.772430Z"
    },
    "papermill": {
     "duration": 0.803548,
     "end_time": "2021-11-09T00:05:24.772600",
     "exception": false,
     "start_time": "2021-11-09T00:05:23.969052",
     "status": "completed"
    },
    "tags": []
   },
   "outputs": [
    {
     "data": {
      "text/plain": [
       "<seaborn.axisgrid.JointGrid at 0x7fad46050430>"
      ]
     },
     "execution_count": 7,
     "metadata": {},
     "output_type": "execute_result"
    },
    {
     "data": {
      "image/png": "[encoded data removed]",
      "text/plain": [
       "<Figure size 432x432 with 3 Axes>"
      ]
     },
     "metadata": {
      "needs_background": "light"
     },
     "output_type": "display_data"
    }
   ],
   "source": [
    "# 2D KDE plot\n",
    "sns.jointplot(x=iris_data['Petal Length (cm)'], y=iris_data['Sepal Width (cm)'], kind=\"kde\")"
   ]
  },
  {
   "cell_type": "markdown",
   "id": "2eb10ced",
   "metadata": {
    "papermill": {
     "duration": 0.014777,
     "end_time": "2021-11-09T00:05:24.803006",
     "exception": false,
     "start_time": "2021-11-09T00:05:24.788229",
     "status": "completed"
    },
    "tags": []
   },
   "source": [
    "Note that in addition to the 2D KDE plot in the center,\n",
    "- the curve at the top of the figure is a KDE plot for the data on the x-axis (in this case, `iris_data['Petal Length (cm)']`), and\n",
    "- the curve on the right of the figure is a KDE plot for the data on the y-axis (in this case, `iris_data['Sepal Width (cm)']`)."
   ]
  },
  {
   "cell_type": "markdown",
   "id": "7188b9f0",
   "metadata": {
    "papermill": {
     "duration": 0.014694,
     "end_time": "2021-11-09T00:05:24.832827",
     "exception": false,
     "start_time": "2021-11-09T00:05:24.818133",
     "status": "completed"
    },
    "tags": []
   },
   "source": [
    "# Color-coded plots\n",
    "\n",
    "For the next part of the tutorial, we'll create plots to understand differences between the species.  To accomplish this, we begin by breaking the dataset into three separate files, with one for each species."
   ]
  },
  {
   "cell_type": "code",
   "execution_count": 6,
   "id": "1bc33be1",
   "metadata": {
    "execution": {
     "iopub.execute_input": "2021-11-09T00:05:24.870092Z",
     "iopub.status.busy": "2021-11-09T00:05:24.869429Z",
     "iopub.status.idle": "2021-11-09T00:05:24.917297Z",
     "shell.execute_reply": "2021-11-09T00:05:24.916709Z"
    },
    "papermill": {
     "duration": 0.069279,
     "end_time": "2021-11-09T00:05:24.917489",
     "exception": false,
     "start_time": "2021-11-09T00:05:24.848210",
     "status": "completed"
    },
    "tags": []
   },
   "outputs": [
    {
     "data": {
      "text/html": [
       "<div>\n",
       "<style scoped>\n",
       "    .dataframe tbody tr th:only-of-type {\n",
       "        vertical-align: middle;\n",
       "    }\n",
       "\n",
       "    .dataframe tbody tr th {\n",
       "        vertical-align: top;\n",
       "    }\n",
       "\n",
       "    .dataframe thead th {\n",
       "        text-align: right;\n",
       "    }\n",
       "</style>\n",
       "<table border=\"1\" class=\"dataframe\">\n",
       "  <thead>\n",
       "    <tr style=\"text-align: right;\">\n",
       "      <th></th>\n",
       "      <th>Sepal Length (cm)</th>\n",
       "      <th>Sepal Width (cm)</th>\n",
       "      <th>Petal Length (cm)</th>\n",
       "      <th>Petal Width (cm)</th>\n",
       "      <th>Species</th>\n",
       "    </tr>\n",
       "    <tr>\n",
       "      <th>Id</th>\n",
       "      <th></th>\n",
       "      <th></th>\n",
       "      <th></th>\n",
       "      <th></th>\n",
       "      <th></th>\n",
       "    </tr>\n",
       "  </thead>\n",
       "  <tbody>\n",
       "    <tr>\n",
       "      <th>51</th>\n",
       "      <td>7.0</td>\n",
       "      <td>3.2</td>\n",
       "      <td>4.7</td>\n",
       "      <td>1.4</td>\n",
       "      <td>Iris-versicolor</td>\n",
       "    </tr>\n",
       "    <tr>\n",
       "      <th>52</th>\n",
       "      <td>6.4</td>\n",
       "      <td>3.2</td>\n",
       "      <td>4.5</td>\n",
       "      <td>1.5</td>\n",
       "      <td>Iris-versicolor</td>\n",
       "    </tr>\n",
       "    <tr>\n",
       "      <th>53</th>\n",
       "      <td>6.9</td>\n",
       "      <td>3.1</td>\n",
       "      <td>4.9</td>\n",
       "      <td>1.5</td>\n",
       "      <td>Iris-versicolor</td>\n",
       "    </tr>\n",
       "    <tr>\n",
       "      <th>54</th>\n",
       "      <td>5.5</td>\n",
       "      <td>2.3</td>\n",
       "      <td>4.0</td>\n",
       "      <td>1.3</td>\n",
       "      <td>Iris-versicolor</td>\n",
       "    </tr>\n",
       "    <tr>\n",
       "      <th>55</th>\n",
       "      <td>6.5</td>\n",
       "      <td>2.8</td>\n",
       "      <td>4.6</td>\n",
       "      <td>1.5</td>\n",
       "      <td>Iris-versicolor</td>\n",
       "    </tr>\n",
       "  </tbody>\n",
       "</table>\n",
       "</div>"
      ],
      "text/plain": [
       "    Sepal Length (cm)  Sepal Width (cm)  Petal Length (cm)  Petal Width (cm)  \\\n",
       "Id                                                                             \n",
       "51                7.0               3.2                4.7               1.4   \n",
       "52                6.4               3.2                4.5               1.5   \n",
       "53                6.9               3.1                4.9               1.5   \n",
       "54                5.5               2.3                4.0               1.3   \n",
       "55                6.5               2.8                4.6               1.5   \n",
       "\n",
       "            Species  \n",
       "Id                   \n",
       "51  Iris-versicolor  \n",
       "52  Iris-versicolor  \n",
       "53  Iris-versicolor  \n",
       "54  Iris-versicolor  \n",
       "55  Iris-versicolor  "
      ]
     },
     "execution_count": 6,
     "metadata": {},
     "output_type": "execute_result"
    }
   ],
   "source": [
    "# Paths of the files to read\n",
    "iris_set_filepath = \"../input/iris_setosa.csv\"\n",
    "iris_ver_filepath = \"../input/iris_versicolor.csv\"\n",
    "iris_vir_filepath = \"../input/iris_virginica.csv\"\n",
    "\n",
    "# Read the files into variables \n",
    "iris_set_data = pd.read_csv(iris_set_filepath, index_col=\"Id\")\n",
    "iris_ver_data = pd.read_csv(iris_ver_filepath, index_col=\"Id\")\n",
    "iris_vir_data = pd.read_csv(iris_vir_filepath, index_col=\"Id\")\n",
    "\n",
    "# Print the first 5 rows of the Iris versicolor data\n",
    "iris_ver_data.head()"
   ]
  },
  {
   "cell_type": "markdown",
   "id": "c32b18ab",
   "metadata": {
    "papermill": {
     "duration": 0.01668,
     "end_time": "2021-11-09T00:05:24.951121",
     "exception": false,
     "start_time": "2021-11-09T00:05:24.934441",
     "status": "completed"
    },
    "tags": []
   },
   "source": [
    "In the code cell below, we create a different histogram for each species by using the `sns.distplot` command (_as above_) three times.  We use `label=` to set how each histogram will appear in the legend."
   ]
  },
  {
   "cell_type": "code",
   "execution_count": 7,
   "id": "3308d095",
   "metadata": {
    "execution": {
     "iopub.execute_input": "2021-11-09T00:05:24.987621Z",
     "iopub.status.busy": "2021-11-09T00:05:24.986749Z",
     "iopub.status.idle": "2021-11-09T00:05:25.309009Z",
     "shell.execute_reply": "2021-11-09T00:05:25.308371Z"
    },
    "papermill": {
     "duration": 0.341621,
     "end_time": "2021-11-09T00:05:25.309163",
     "exception": false,
     "start_time": "2021-11-09T00:05:24.967542",
     "status": "completed"
    },
    "tags": []
   },
   "outputs": [
    {
     "name": "stderr",
     "output_type": "stream",
     "text": [
      "/opt/conda/lib/python3.7/site-packages/seaborn/distributions.py:2619: FutureWarning: `distplot` is a deprecated function and will be removed in a future version. Please adapt your code to use either `displot` (a figure-level function with similar flexibility) or `histplot` (an axes-level function for histograms).\n",
      "  warnings.warn(msg, FutureWarning)\n"
     ]
    },
    {
     "data": {
      "text/plain": [
       "<matplotlib.legend.Legend at 0x7fc89e73fe90>"
      ]
     },
     "execution_count": 7,
     "metadata": {},
     "output_type": "execute_result"
    },
    {
     "data": {
      "image/png": "[encoded data removed]",
      "text/plain": [
       "<Figure size 432x288 with 1 Axes>"
      ]
     },
     "metadata": {
      "needs_background": "light"
     },
     "output_type": "display_data"
    }
   ],
   "source": [
    "# Histograms for each species\n",
    "sns.distplot(a=iris_set_data['Petal Length (cm)'], label=\"Iris-setosa\", kde=False)\n",
    "sns.distplot(a=iris_ver_data['Petal Length (cm)'], label=\"Iris-versicolor\", kde=False)\n",
    "sns.distplot(a=iris_vir_data['Petal Length (cm)'], label=\"Iris-virginica\", kde=False)\n",
    "\n",
    "# Add title\n",
    "plt.title(\"Histogram of Petal Lengths, by Species\")\n",
    "\n",
    "# Force legend to appear\n",
    "plt.legend()"
   ]
  },
  {
   "cell_type": "markdown",
   "id": "1bfa0d0a",
   "metadata": {
    "papermill": {
     "duration": 0.017124,
     "end_time": "2021-11-09T00:05:25.344522",
     "exception": false,
     "start_time": "2021-11-09T00:05:25.327398",
     "status": "completed"
    },
    "tags": []
   },
   "source": [
    "In this case, the legend does not automatically appear on the plot. To force it to show (for any plot type), we can always use `plt.legend()`.\n",
    "\n",
    "We can also create a KDE plot for each species by using `sns.kdeplot` (_as above_).  Again, `label=` is used to set the values in the legend."
   ]
  },
  {
   "cell_type": "code",
   "execution_count": 8,
   "id": "681d174b",
   "metadata": {
    "execution": {
     "iopub.execute_input": "2021-11-09T00:05:25.384287Z",
     "iopub.status.busy": "2021-11-09T00:05:25.383373Z",
     "iopub.status.idle": "2021-11-09T00:05:25.631179Z",
     "shell.execute_reply": "2021-11-09T00:05:25.631610Z"
    },
    "papermill": {
     "duration": 0.269661,
     "end_time": "2021-11-09T00:05:25.631789",
     "exception": false,
     "start_time": "2021-11-09T00:05:25.362128",
     "status": "completed"
    },
    "tags": []
   },
   "outputs": [
    {
     "data": {
      "text/plain": [
       "Text(0.5, 1.0, 'Distribution of Petal Lengths, by Species')"
      ]
     },
     "execution_count": 8,
     "metadata": {},
     "output_type": "execute_result"
    },
    {
     "data": {
      "image/png": "[encoded data removed]",
      "text/plain": [
       "<Figure size 432x288 with 1 Axes>"
      ]
     },
     "metadata": {
      "needs_background": "light"
     },
     "output_type": "display_data"
    }
   ],
   "source": [
    "# KDE plots for each species\n",
    "sns.kdeplot(data=iris_set_data['Petal Length (cm)'], label=\"Iris-setosa\", shade=True)\n",
    "sns.kdeplot(data=iris_ver_data['Petal Length (cm)'], label=\"Iris-versicolor\", shade=True)\n",
    "sns.kdeplot(data=iris_vir_data['Petal Length (cm)'], label=\"Iris-virginica\", shade=True)\n",
    "\n",
    "# Add title\n",
    "plt.title(\"Distribution of Petal Lengths, by Species\")"
   ]
  },
  {
   "cell_type": "markdown",
   "id": "4417adf5",
   "metadata": {
    "papermill": {
     "duration": 0.018159,
     "end_time": "2021-11-09T00:05:25.668435",
     "exception": false,
     "start_time": "2021-11-09T00:05:25.650276",
     "status": "completed"
    },
    "tags": []
   },
   "source": [
    "One interesting pattern that can be seen in plots is that the plants seem to belong to one of two groups, where _Iris versicolor_ and _Iris virginica_ seem to have similar values for petal length, while _Iris setosa_ belongs in a category all by itself. \n",
    "\n",
    "In fact, according to this dataset, we might even be able to classify any iris plant as *Iris setosa* (as opposed to *Iris versicolor* or *Iris virginica*) just by looking at the petal length: if the petal length of an iris flower is less than 2 cm, it's most likely to be *Iris setosa*!"
   ]
  },
  {
   "cell_type": "markdown",
   "id": "dd2c929c",
   "metadata": {
    "papermill": {
     "duration": 0.018048,
     "end_time": "2021-11-09T00:05:25.705413",
     "exception": false,
     "start_time": "2021-11-09T00:05:25.687365",
     "status": "completed"
    },
    "tags": []
   },
   "source": [
    "# What's next?\n",
    "\n",
    "Put your new skills to work in a **[coding exercise](https://www.kaggle.com/kernels/fork/2951534)**!"
   ]
  },
  {
   "cell_type": "markdown",
   "id": "65012bf2",
   "metadata": {
    "papermill": {
     "duration": 0.017245,
     "end_time": "2021-11-09T00:05:25.740490",
     "exception": false,
     "start_time": "2021-11-09T00:05:25.723245",
     "status": "completed"
    },
    "tags": []
   },
   "source": [
    "---\n",
    "\n",
    "\n",
    "\n",
    "\n",
    "*Have questions or comments? Visit the [course discussion forum](https://www.kaggle.com/learn/data-visualization/discussion) to chat with other learners.*"
   ]
  }
 ],
 "metadata": {
  "kernelspec": {
   "display_name": "Python 3",
   "language": "python",
   "name": "python3"
  },
  "language_info": {
   "codemirror_mode": {
    "name": "ipython",
    "version": 3
   },
   "file_extension": ".py",
   "mimetype": "text/x-python",
   "name": "python",
   "nbconvert_exporter": "python",
   "pygments_lexer": "ipython3",
   "version": "3.8.3"
  },
  "papermill": {
   "default_parameters": {},
   "duration": 12.595258,
   "end_time": "2021-11-09T00:05:26.468491",
   "environment_variables": {},
   "exception": null,
   "input_path": "__notebook__.ipynb",
   "output_path": "__notebook__.ipynb",
   "parameters": {},
   "start_time": "2021-11-09T00:05:13.873233",
   "version": "2.3.3"
  }
 },
 "nbformat": 4,
 "nbformat_minor": 5
}
