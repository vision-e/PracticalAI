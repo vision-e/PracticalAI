{
 "cells": [
  {
   "cell_type": "code",
   "execution_count": 1,
   "id": "4ce76a07",
   "metadata": {},
   "outputs": [],
   "source": [
    "import os\n",
    "import pandas as pd\n",
    "from sklearn.model_selection import train_test_split\n",
    "from sklearn.utils.validation import column_or_1d\n",
    "import numpy as np\n",
    "\n",
    "#https://towardsdatascience.com/dont-sweat-the-solver-stuff-aea7cddc3451"
   ]
  },
  {
   "cell_type": "code",
   "execution_count": 2,
   "id": "e3cb3409",
   "metadata": {},
   "outputs": [],
   "source": [
    "# set seed for random expertiment \n",
    "seed = 1234\n",
    "num_folds = 10\n",
    "n_jobs = -1\n",
    "hypertuned_experiment = False\n",
    "is_save_results = False\n"
   ]
  },
  {
   "cell_type": "markdown",
   "id": "96ebeb96",
   "metadata": {},
   "source": [
    "# Parsing Dataset"
   ]
  },
  {
   "cell_type": "code",
   "execution_count": 3,
   "id": "410c3d60",
   "metadata": {},
   "outputs": [],
   "source": [
    "class SonarParser(object):\n",
    "    def __init__(self):\n",
    "\n",
    "        self.URL = \"https://archive.ics.uci.edu/ml/machine-learning-databases/undocumented/connectionist-bench/sonar/sonar.all-data\"\n",
    "        self.name = \"sonar\"\n",
    "        self.file_name = 'sonar.csv'\n",
    "        self.file_path = \"sonar.csv\"\n",
    "        self.label_col = \"60\"\n",
    "        self.X, self.y = self._parse_file()\n",
    "        self.all = pd.concat([self.X, self.y], axis=1)\n",
    "        # Metrica Scelta per il test\n",
    "        self.metric = \"accuracy\"\n",
    "        self._print_stats()\n",
    "\n",
    "    def _parse_file(self,):\n",
    "        \"\"\"\n",
    "            -Read csv data\n",
    "            -Drop nan values\n",
    "            -Keep only numeric columns\n",
    "            -Split to X for features and y for labels\n",
    "        \"\"\"\n",
    "        data = pd.read_csv(self.file_path)\n",
    "        # rimuove i valori Nan\n",
    "        data_cleaned = data.dropna()\n",
    "\n",
    "        X, y = data_cleaned.drop(columns=[self.label_col]), data_cleaned[self.label_col]\n",
    "\n",
    "        # keep only numeric features\n",
    "        X = X.loc[:, X.dtypes == np.float64].dropna()\n",
    "\n",
    "        return X, y\n",
    "\n",
    "    def save_to_csv(self):\n",
    "        save_path = os.path.join(\"..\", \"..\", \"data\", \"interim\", self.file_name)\n",
    "        self.all.to_csv(save_path, index=False)\n",
    "\n",
    "    def _print_stats(self):\n",
    "        print(\"#\"*30 + \" Start Dataset - \" + self.name + \" Stats \" + \"#\"*30)\n",
    "        print(\"Dataset shape:\", self.all.shape)\n",
    "        print(\"Counts for each class:\")\n",
    "        print(self.y.value_counts())\n",
    "        print(\"Sample of first 5 rows:\")\n",
    "        print(self.all.head(5))\n",
    "        print(\"#\"*30 + \" End Dataset Stats \" + \"#\"*30)\n"
   ]
  },
  {
   "cell_type": "code",
   "execution_count": 4,
   "id": "3799832c",
   "metadata": {},
   "outputs": [
    {
     "name": "stdout",
     "output_type": "stream",
     "text": [
      "############################## Start Dataset - sonar Stats ##############################\n",
      "Dataset shape: (208, 61)\n",
      "Counts for each class:\n",
      "M    111\n",
      "R     97\n",
      "Name: 60, dtype: int64\n",
      "Sample of first 5 rows:\n",
      "        0       1       2       3       4       5       6       7       8  \\\n",
      "0  0.0200  0.0371  0.0428  0.0207  0.0954  0.0986  0.1539  0.1601  0.3109   \n",
      "1  0.0453  0.0523  0.0843  0.0689  0.1183  0.2583  0.2156  0.3481  0.3337   \n",
      "2  0.0262  0.0582  0.1099  0.1083  0.0974  0.2280  0.2431  0.3771  0.5598   \n",
      "3  0.0100  0.0171  0.0623  0.0205  0.0205  0.0368  0.1098  0.1276  0.0598   \n",
      "4  0.0762  0.0666  0.0481  0.0394  0.0590  0.0649  0.1209  0.2467  0.3564   \n",
      "\n",
      "        9  ...      51      52      53      54      55      56      57  \\\n",
      "0  0.2111  ...  0.0027  0.0065  0.0159  0.0072  0.0167  0.0180  0.0084   \n",
      "1  0.2872  ...  0.0084  0.0089  0.0048  0.0094  0.0191  0.0140  0.0049   \n",
      "2  0.6194  ...  0.0232  0.0166  0.0095  0.0180  0.0244  0.0316  0.0164   \n",
      "3  0.1264  ...  0.0121  0.0036  0.0150  0.0085  0.0073  0.0050  0.0044   \n",
      "4  0.4459  ...  0.0031  0.0054  0.0105  0.0110  0.0015  0.0072  0.0048   \n",
      "\n",
      "       58      59  60  \n",
      "0  0.0090  0.0032   R  \n",
      "1  0.0052  0.0044   R  \n",
      "2  0.0095  0.0078   R  \n",
      "3  0.0040  0.0117   R  \n",
      "4  0.0107  0.0094   R  \n",
      "\n",
      "[5 rows x 61 columns]\n",
      "############################## End Dataset Stats ##############################\n"
     ]
    }
   ],
   "source": [
    "parser= SonarParser()\n"
   ]
  },
  {
   "cell_type": "code",
   "execution_count": 5,
   "id": "0fb67137",
   "metadata": {},
   "outputs": [
    {
     "data": {
      "text/plain": [
       "0      R\n",
       "1      R\n",
       "2      R\n",
       "3      R\n",
       "4      R\n",
       "      ..\n",
       "203    M\n",
       "204    M\n",
       "205    M\n",
       "206    M\n",
       "207    M\n",
       "Name: 60, Length: 208, dtype: object"
      ]
     },
     "execution_count": 5,
     "metadata": {},
     "output_type": "execute_result"
    }
   ],
   "source": [
    "x= parser.X\n",
    "y = parser.y\n",
    "scoring = parser.metric\n",
    "y"
   ]
  },
  {
   "cell_type": "code",
   "execution_count": 6,
   "id": "3151c61b",
   "metadata": {},
   "outputs": [
    {
     "data": {
      "text/plain": [
       "array(['R', 'R', 'R', 'R', 'R', 'R', 'R', 'R', 'R', 'R', 'R', 'R', 'R',\n",
       "       'R', 'R', 'R', 'R', 'R', 'R', 'R', 'R', 'R', 'R', 'R', 'R', 'R',\n",
       "       'R', 'R', 'R', 'R', 'R', 'R', 'R', 'R', 'R', 'R', 'R', 'R', 'R',\n",
       "       'R', 'R', 'R', 'R', 'R', 'R', 'R', 'R', 'R', 'R', 'R', 'R', 'R',\n",
       "       'R', 'R', 'R', 'R', 'R', 'R', 'R', 'R', 'R', 'R', 'R', 'R', 'R',\n",
       "       'R', 'R', 'R', 'R', 'R', 'R', 'R', 'R', 'R', 'R', 'R', 'R', 'R',\n",
       "       'R', 'R', 'R', 'R', 'R', 'R', 'R', 'R', 'R', 'R', 'R', 'R', 'R',\n",
       "       'R', 'R', 'R', 'R', 'R', 'R', 'M', 'M', 'M', 'M', 'M', 'M', 'M',\n",
       "       'M', 'M', 'M', 'M', 'M', 'M', 'M', 'M', 'M', 'M', 'M', 'M', 'M',\n",
       "       'M', 'M', 'M', 'M', 'M', 'M', 'M', 'M', 'M', 'M', 'M', 'M', 'M',\n",
       "       'M', 'M', 'M', 'M', 'M', 'M', 'M', 'M', 'M', 'M', 'M', 'M', 'M',\n",
       "       'M', 'M', 'M', 'M', 'M', 'M', 'M', 'M', 'M', 'M', 'M', 'M', 'M',\n",
       "       'M', 'M', 'M', 'M', 'M', 'M', 'M', 'M', 'M', 'M', 'M', 'M', 'M',\n",
       "       'M', 'M', 'M', 'M', 'M', 'M', 'M', 'M', 'M', 'M', 'M', 'M', 'M',\n",
       "       'M', 'M', 'M', 'M', 'M', 'M', 'M', 'M', 'M', 'M', 'M', 'M', 'M',\n",
       "       'M', 'M', 'M', 'M', 'M', 'M', 'M', 'M', 'M', 'M', 'M', 'M', 'M'],\n",
       "      dtype=object)"
      ]
     },
     "execution_count": 6,
     "metadata": {},
     "output_type": "execute_result"
    }
   ],
   "source": [
    "y_sonar = column_or_1d(y, warn=False)\n",
    "y_sonar"
   ]
  },
  {
   "cell_type": "code",
   "execution_count": 7,
   "id": "87294712",
   "metadata": {},
   "outputs": [
    {
     "data": {
      "text/plain": [
       "array(['M', 'R', 'R', 'R', 'R', 'R', 'M', 'R', 'R', 'R', 'M', 'M', 'M',\n",
       "       'R', 'R', 'M', 'M', 'R', 'M', 'M', 'M', 'M', 'R', 'M', 'M', 'R',\n",
       "       'M', 'R', 'M', 'M', 'R', 'R', 'R', 'M', 'M', 'M', 'R', 'R', 'R',\n",
       "       'M', 'R', 'M', 'R', 'R', 'R', 'R', 'M', 'M', 'M', 'M', 'R', 'R',\n",
       "       'R', 'R', 'M', 'R', 'R', 'M', 'M', 'M', 'M', 'M', 'R', 'R', 'M',\n",
       "       'M', 'M', 'R', 'M', 'M', 'M', 'R', 'R', 'M', 'M', 'R', 'R', 'R',\n",
       "       'M', 'M', 'M', 'R', 'R', 'M', 'M', 'M', 'R', 'M', 'M', 'R', 'R',\n",
       "       'R', 'M', 'M', 'R', 'R', 'R', 'R', 'M', 'M', 'M', 'M', 'M', 'M',\n",
       "       'M', 'M', 'R', 'R', 'M', 'R', 'R', 'R', 'R', 'R', 'R', 'R', 'R',\n",
       "       'M', 'M', 'R', 'M', 'R', 'R', 'R', 'M', 'M', 'R', 'R', 'M', 'M',\n",
       "       'M', 'R', 'R', 'R', 'M', 'R', 'M', 'M', 'M', 'R', 'R', 'R', 'R',\n",
       "       'M', 'M', 'R', 'R', 'M', 'M', 'M', 'M', 'R', 'M', 'M', 'M', 'R',\n",
       "       'M', 'R', 'M', 'M', 'M', 'M', 'M', 'R', 'R', 'R'], dtype=object)"
      ]
     },
     "execution_count": 7,
     "metadata": {},
     "output_type": "execute_result"
    }
   ],
   "source": [
    "X_train, X_test, y_train, y_test = train_test_split(x, y_sonar, test_size=0.20, random_state=seed)\n",
    "\n",
    "\n",
    "\n",
    "\n",
    "y_train"
   ]
  },
  {
   "cell_type": "code",
   "execution_count": 8,
   "id": "b3416696",
   "metadata": {},
   "outputs": [],
   "source": [
    "from sklearn.linear_model import LogisticRegression\n",
    "from sklearn import model_selection\n",
    "from sklearn.preprocessing import StandardScaler\n",
    "\n"
   ]
  },
  {
   "cell_type": "code",
   "execution_count": 9,
   "id": "fc5c5acb",
   "metadata": {},
   "outputs": [],
   "source": [
    "model= LogisticRegression(penalty=\"l2\",verbose=1,max_iter=9000)"
   ]
  },
  {
   "cell_type": "code",
   "execution_count": 10,
   "id": "c7d9203b",
   "metadata": {},
   "outputs": [],
   "source": [
    "kfold = model_selection.KFold(n_splits=num_folds)\n",
    "cv_results = model_selection.cross_val_score(model, X_train, y_train, cv=kfold, n_jobs=n_jobs, scoring=scoring)"
   ]
  },
  {
   "cell_type": "code",
   "execution_count": null,
   "id": "712e15a9",
   "metadata": {},
   "outputs": [],
   "source": []
  },
  {
   "cell_type": "code",
   "execution_count": 11,
   "id": "d6f1a335",
   "metadata": {},
   "outputs": [
    {
     "name": "stderr",
     "output_type": "stream",
     "text": [
      "[Parallel(n_jobs=1)]: Using backend SequentialBackend with 1 concurrent workers.\n",
      "[Parallel(n_jobs=1)]: Done   1 out of   1 | elapsed:    0.0s finished\n"
     ]
    }
   ],
   "source": [
    "model.fit(X_train, y_train)\n",
    "curr_test_score = model.score(X_test, y_test)\n",
    "curr_train_score= model.score(X_train, y_train)"
   ]
  },
  {
   "cell_type": "code",
   "execution_count": 12,
   "id": "4bbc1f5e",
   "metadata": {},
   "outputs": [
    {
     "data": {
      "text/plain": [
       "0.8554216867469879"
      ]
     },
     "execution_count": 12,
     "metadata": {},
     "output_type": "execute_result"
    }
   ],
   "source": [
    "curr_train_score"
   ]
  },
  {
   "cell_type": "code",
   "execution_count": 13,
   "id": "5ee31f90",
   "metadata": {
    "hideOutput": true
   },
   "outputs": [
    {
     "data": {
      "text/plain": [
       "0.6904761904761905"
      ]
     },
     "execution_count": 13,
     "metadata": {},
     "output_type": "execute_result"
    }
   ],
   "source": [
    "curr_test_score"
   ]
  },
  {
   "cell_type": "markdown",
   "id": "7f4da355",
   "metadata": {},
   "source": [
    "# Prediction"
   ]
  },
  {
   "cell_type": "code",
   "execution_count": 22,
   "id": "2a678cd8",
   "metadata": {},
   "outputs": [
    {
     "name": "stderr",
     "output_type": "stream",
     "text": [
      "/home/ubuntu/miniconda3/lib/python3.8/site-packages/sklearn/base.py:445: UserWarning: X does not have valid feature names, but LogisticRegression was fitted with feature names\n",
      "  warnings.warn(\n"
     ]
    },
    {
     "data": {
      "text/plain": [
       "array(['R'], dtype=object)"
      ]
     },
     "execution_count": 22,
     "metadata": {},
     "output_type": "execute_result"
    }
   ],
   "source": [
    "model.predict(np.array(X_test.iloc[0]).reshape(1,-1))"
   ]
  },
  {
   "cell_type": "code",
   "execution_count": 15,
   "id": "2e6a95bc",
   "metadata": {},
   "outputs": [
    {
     "data": {
      "text/plain": [
       "array(['R', 'R', 'R', 'M', 'R', 'M', 'M', 'M', 'M', 'R', 'M', 'M', 'R',\n",
       "       'M', 'M', 'M', 'R', 'R', 'M', 'M', 'R', 'M', 'M', 'M', 'R', 'R',\n",
       "       'M', 'R', 'M', 'M', 'M', 'M', 'R', 'M', 'M', 'R', 'M', 'R', 'R',\n",
       "       'M', 'M', 'M'], dtype=object)"
      ]
     },
     "execution_count": 15,
     "metadata": {},
     "output_type": "execute_result"
    }
   ],
   "source": [
    "y_test"
   ]
  },
  {
   "cell_type": "code",
   "execution_count": null,
   "id": "fd1426ba",
   "metadata": {},
   "outputs": [],
   "source": []
  }
 ],
 "metadata": {
  "kernelspec": {
   "display_name": "Python 3",
   "language": "python",
   "name": "python3"
  },
  "language_info": {
   "codemirror_mode": {
    "name": "ipython",
    "version": 3
   },
   "file_extension": ".py",
   "mimetype": "text/x-python",
   "name": "python",
   "nbconvert_exporter": "python",
   "pygments_lexer": "ipython3",
   "version": "3.8.3"
  }
 },
 "nbformat": 4,
 "nbformat_minor": 5
}
